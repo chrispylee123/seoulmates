{
 "cells": [
  {
   "cell_type": "raw",
   "id": "33dd6c4c",
   "metadata": {},
   "source": [
    "---\n",
    "title: \"Project proposal\"\n",
    "format: \n",
    "  html:\n",
    "    toc: true\n",
    "    toc-title: Contents\n",
    "    code-fold: show\n",
    "    self-contained: true\n",
    "jupyter: python3\n",
    "---"
   ]
  },
  {
   "cell_type": "markdown",
   "id": "0116f49b",
   "metadata": {},
   "source": [
    "## Instructions {-}\n",
    "\n",
    "1. Please answer the following questions as part of your project proposal.\n",
    "\n",
    "2. Write your answers in the *Markdown* cells of the Jupyter notebook. You don't need to write any code, but if you want to, you may use the *Code* cells.\n",
    "\n",
    "3. Use [Quarto](https://quarto.org/docs/output-formats/html-basics.html) to print the *.ipynb* file as HTML. You will need to open the command prompt, navigate to the directory containing the file, and use the command: `quarto render filename.ipynb --to html`. Submit the HTML file.\n",
    "\n",
    "4. The project proposal is worth 8 points, and is due on **17th October 2023 at 11:59 pm**. \n",
    "\n",
    "5. You must make one submission as a group, and not individually.\n",
    "\n",
    "6. Maintaining a GitHub repository is optional, though encouraged for the project.\n",
    "\n",
    "7. Share the link of your project’s GitHub repository on the [spreadsheet](https://docs.google.com/spreadsheets/d/1khao3unpj_vsx4kOSg_Zzo77YK1UWL2w73Oa0aAirOo/edit#gid=0)."
   ]
  },
  {
   "cell_type": "markdown",
   "id": "fe7ea9bb",
   "metadata": {},
   "source": [
    "# 1) Team name\n",
    "Mention your team name.\n",
    "\n",
    "*(0 points)*"
   ]
  },
  {
   "cell_type": "markdown",
   "id": "6fa80049",
   "metadata": {},
   "source": [
    "Seoulmates"
   ]
  },
  {
   "cell_type": "markdown",
   "id": "16fccc9b",
   "metadata": {},
   "source": [
    "# 2) Member names\n",
    "Mention the names of your team members.\n",
    "\n",
    "*(0 points)*"
   ]
  },
  {
   "cell_type": "markdown",
   "id": "fe076975",
   "metadata": {},
   "source": [
    "Christine Lee, Christine Kim, Seoyeon Yoon, Zindeh Scere"
   ]
  },
  {
   "cell_type": "markdown",
   "id": "16c1a490",
   "metadata": {},
   "source": [
    "# 3) Topic\n",
    "Mention the topic of your course project.\n",
    "\n",
    "*(0 points)*"
   ]
  },
  {
   "cell_type": "markdown",
   "id": "aba893bb",
   "metadata": {},
   "source": [
    "We are analyzing Airbnb datasets for the City of Chicago, IL."
   ]
  },
  {
   "cell_type": "markdown",
   "id": "9403cdfb",
   "metadata": {},
   "source": [
    "# 4) Inspiration\n",
    "What inspired your team to choose this topic?\n",
    "\n",
    "*(0.1 points)*"
   ]
  },
  {
   "cell_type": "markdown",
   "id": "ea50aa4a",
   "metadata": {},
   "source": [
    "As avid travelers who are enthusiastic about finding decent accommodations, we all have experience with using Airbnb. In recent years, people have been looking for options other than traditional hotels and beds and breakfasts, and Airbnb’s popularity has surged during a digital age with technology. Therefore, we want explore and analyze the trends that appear within Airbnb’s datasets within Chicago, IL, as it is somewhere close to all of us at Northwestern. Through this analysis, we hope to understand the perspectives of Airbnb customers and travelers who choose to stay in the beautiful city of Chicago."
   ]
  },
  {
   "cell_type": "markdown",
   "id": "51a7babb",
   "metadata": {},
   "source": [
    "# 5) EDA (Exploratory data analysis) questions\n",
    "\n",
    "Explain the questions to be answered in your course project. You must have 4 questions - one for each team member. Mention the name of the team member and the question that they will answer against it.\n",
    "\n",
    "*(0.4 points)*"
   ]
  },
  {
   "cell_type": "markdown",
   "id": "260f4a1d",
   "metadata": {},
   "source": [
    "1. What is the correlation between the Proximity of the listing with the Major Landmark and the Price of the Listing? (Seoyeon Yoon)\n",
    "\n",
    "2. What is the correlation between Amenities and the Length of Stay? (Christine Kim)\n",
    "\n",
    "3. What is the correlation between Host Response Time/Rate and Booking Rate/Satisfaction? (Zindeh Scere)\n",
    "\n",
    "4. How are Seasonal trends related to Pricing? (Christine Lee)\n"
   ]
  },
  {
   "cell_type": "markdown",
   "id": "3eb2d4f2",
   "metadata": {},
   "source": [
    "# 6) Data \n",
    "\n",
    "What data sources will you use, and how will the data help answer the questions? Explain.\n",
    "\n",
    "If the data is open source, share the link of the data.\n",
    "\n",
    "What is the number of continuous variables, categorical variables, and observations in your dataset(s). If you are using multiple datasets, please provide the information for each dataset. When counting variables, count only those that have sufficient non-missing values, and will be useful.\n",
    "\n",
    "Which variable is the main variable of interest? For example, if you are analyzing election trends, then the variable consisting of number of votes may be the main variable of interest. If you are analyzing crime rate, the variable consisting of the number of crimes may be the main variable of interest.\n",
    "\n",
    "*Note: You cannot use any of the datasets mentioned [here](https://sites.google.com/view/stat303-1fall2023/project).*\n",
    "\n",
    "*(0.4 points)*"
   ]
  },
  {
   "cell_type": "markdown",
   "id": "4b4aff0f",
   "metadata": {},
   "source": [
    "#### Data sources\n",
    "\n",
    "Actual dataset to download: http://insideairbnb.com/get-the-data/\n",
    "\n",
    "Online website version: http://insideairbnb.com/chicago/\n",
    "\n",
    "The Inside Airbnb dataset has three components. First, the listings dataset which contains information about each listing such as the host, locations, price, amenities, etc.; second, the reviews dataset which represents guest reviews corresponding to listing ids; and third, the calendar dataset which shows a range of dates and corresponding minimum and maximum prices in the same period to help us gather seasonal airbnb data. \n",
    "The three csv files in comination provide details about airbnb listings in Chicago and their host and guest information, including all of the main variables of interest that we have identified below.\n",
    "\n",
    "Potential other datasets to merge: Chicago Landmarks https://catalog.data.gov/dataset/individual-landmarks-d264d\n",
    "\n",
    "This dataset will help us locate major landmarks/attractions in Chicago in terms of coordinates to analyze our first EDA question.\n",
    "\n",
    "#### Number of variables\n",
    "\n",
    "Continuous variables: at least 9 continuous variables including price, length of stay, review, number of bedrooms, longitude, latitude, host response rate, host listings count, minimum/ maximum nights, etc.\n",
    "\n",
    "Categorical variables: at least 8 categorical variables including neighborhood, response time, amenities, instant bookable, host location, host response time, host is a superhost, property type, etc.\n",
    "\n",
    "Number of observations: number of rows in the listings dataset is 8528.\n",
    "\n",
    "#### Main variables of interest\n",
    "\n",
    "Correlation between the proximity of the listing with the major landmark and the price of the listing. \n",
    "- Related variables: Longitude/latitude of listing and major landmarks, price\n",
    "\n",
    "Correlation between amenities and the length of stay \n",
    "- Related variables: amenities, length of stay\n",
    "\n",
    "Correlation between Host response time rate and booking rate/satisfaction \n",
    "- Related variables: host response rate, response time, acceptance rate, is super host, review scores\n",
    "\n",
    "Relationship between seasonal trends and pricing \n",
    "- Related variables: price, date of booking (in calendar dataset)"
   ]
  },
  {
   "cell_type": "markdown",
   "id": "cb8a845f",
   "metadata": {},
   "source": [
    "# 7) Stakeholders"
   ]
  },
  {
   "cell_type": "markdown",
   "id": "d39c782c",
   "metadata": {},
   "source": [
    "Who are the stakeholders, and how will your project benefit them? Explain.\n",
    "\n",
    "*(0.1 points)*"
   ]
  },
  {
   "cell_type": "markdown",
   "id": "70bf5816",
   "metadata": {},
   "source": [
    "Hosts - They will gain insight into factors that are in demand such as pricing strategies, property types, amenities, and more, helping them optimize their listings for better occupancy and revenue. They will learn how to improve their listings based on these findings to attract guests. The hosts will be the main stakeholder that we will attempt to provide policy recommendations to.\n",
    "\n",
    "Guests - Travelers and potential guests can benefit from the project by gaining a better understanding of pricing trends, the neighborhoods with high occupancy rates, and the types of properties available. This information can help them make informed choices and find the best accommodations in Chicago that meet their needs and budgets.\n",
    "\n",
    "Residents of the Neighborhood - They can gain insight into residential trends and advocacy around rental laws in local neighborhoods. This information can help them make informed decisions around the effectiveness of recent laws and the potential impact AirBnbs may have in their neighborhoods.\n",
    "\n",
    "City of Chicago - The community can generate revenue through more tourism as well as benefit local residents as they generate revenue through hosting. Regulators can use the insights from the analysis to better understand the impact of short-term rentals on different neighborhoods and influence policies around creating laws to maintain access to residential housing\n",
    "\n",
    "Real estate investors - Investors looking to buy property for the purpose of short-term rentals in Chicago can benefit from understanding the profitability and other dynamics of short-term rentals in different neighborhoods."
   ]
  }
 ],
 "metadata": {
  "kernelspec": {
   "display_name": "Python 3 (ipykernel)",
   "language": "python",
   "name": "python3"
  },
  "language_info": {
   "codemirror_mode": {
    "name": "ipython",
    "version": 3
   },
   "file_extension": ".py",
   "mimetype": "text/x-python",
   "name": "python",
   "nbconvert_exporter": "python",
   "pygments_lexer": "ipython3",
   "version": "3.11.4"
  }
 },
 "nbformat": 4,
 "nbformat_minor": 5
}
